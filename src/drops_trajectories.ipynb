{
 "cells": [
  {
   "cell_type": "code",
   "execution_count": null,
   "id": "3d016884",
   "metadata": {},
   "outputs": [],
   "source": [
    "import matplotlib.pyplot as plt\n",
    "import numpy as np\n",
    "import gsu\n",
    "import drops\n",
    "import utils\n",
    "import random"
   ]
  },
  {
   "cell_type": "code",
   "execution_count": null,
   "id": "08902dd4",
   "metadata": {},
   "outputs": [],
   "source": [
    "def show_trs(trs, box, view1=90.0, view2=0.0):\n",
    "    \"\"\"\n",
    "    Show trajectory.\n",
    "    \"\"\"\n",
    "\n",
    "    plt.figure(figsize=(20, 20))\n",
    "    ax = plt.axes(projection='3d')\n",
    "    ax.set_xlim(box[0], box[3])\n",
    "    ax.set_ylim(box[1], box[4])\n",
    "    ax.set_zlim(box[2], box[5])\n",
    "    ax.view_init(view1, view2)\n",
    "    \n",
    "    for tr in trs:\n",
    "    \n",
    "        xs = [p[0] for p in tr]\n",
    "        ys = [p[1] for p in tr]\n",
    "        zs = [p[2] for p in tr]\n",
    "    \n",
    "        # Data for a three-dimensional line\n",
    "        ax.plot3D(xs, ys, zs, 'gray')"
   ]
  },
  {
   "cell_type": "code",
   "execution_count": null,
   "id": "c3d15872",
   "metadata": {},
   "outputs": [],
   "source": [
    "g = gsu.Grid()\n",
    "g.load('../grids/cyl_stall.dat')\n",
    "box = g.box()\n",
    "print('grid box = ', box)\n",
    "air = drops.read_vel_field_from_file('../grids/cyl_air.dat')\n",
    "air.print_info()"
   ]
  },
  {
   "cell_type": "code",
   "execution_count": null,
   "id": "7c84354e",
   "metadata": {},
   "outputs": [],
   "source": [
    "d = 1.0e-4\n",
    "dt = 1.0e-6\n",
    "stall_thr = 1.0e-6\n",
    "max_fly_steps = 200"
   ]
  },
  {
   "cell_type": "code",
   "execution_count": null,
   "id": "5df24bec",
   "metadata": {},
   "outputs": [],
   "source": [
    "stall_ind = g.get_variable_index('Stall')\n",
    "\n",
    "# trajectories\n",
    "trs = []\n",
    "\n",
    "# show all faces\n",
    "for f in g.Faces:\n",
    "    #trs.append([f.Nodes[0].P, f.Nodes[1].P, f.Nodes[2].P, f.Nodes[0].P])\n",
    "    trs.append([f.get_center(), f.get_point_above(d)])\n",
    "    \n",
    "# fly from wet faces\n",
    "for f in g.Faces:\n",
    "    stall_value = f.Data[stall_ind - 3]\n",
    "    if stall_value >= stall_thr:\n",
    "        res = air.fly(f.get_point_above(d), dt, g, max_fly_steps)\n",
    "        if res[0] == 'C':\n",
    "            print('imp2 water from face {0} to face {1} (stall value = {2})'.format(f.GloId, res[1].GloId, stall_value))\n",
    "        trs.append(res[2])"
   ]
  },
  {
   "cell_type": "code",
   "execution_count": null,
   "id": "c537a9f3",
   "metadata": {},
   "outputs": [],
   "source": [
    "# show\n",
    "show_trs(trs, box, view1=120.0, view2=10.0)"
   ]
  }
 ],
 "metadata": {
  "kernelspec": {
   "display_name": "Python 3 (ipykernel)",
   "language": "python",
   "name": "python3"
  },
  "language_info": {
   "codemirror_mode": {
    "name": "ipython",
    "version": 3
   },
   "file_extension": ".py",
   "mimetype": "text/x-python",
   "name": "python",
   "nbconvert_exporter": "python",
   "pygments_lexer": "ipython3",
   "version": "3.9.4"
  }
 },
 "nbformat": 4,
 "nbformat_minor": 5
}
